{
 "cells": [
  {
   "cell_type": "markdown",
   "metadata": {},
   "source": [
    "## Creando un entorno virtual\n",
    "\n",
    "Adjunto la screenshot con el ejercicio realizado\n",
    "\n",
    "![url](https://i.imgur.com/on5midN.png)"
   ]
  }
 ],
 "metadata": {
  "language_info": {
   "name": "python"
  },
  "orig_nbformat": 4
 },
 "nbformat": 4,
 "nbformat_minor": 2
}
