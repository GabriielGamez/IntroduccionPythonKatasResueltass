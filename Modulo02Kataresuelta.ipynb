{
 "cells": [
  {
   "cell_type": "markdown",
   "metadata": {},
   "source": [
    "## Creando un entorno virtual\n",
    "\n",
    "Adjunto la screenshot con el ejercicio realizado\n",
    "\n",
    "![](../CursoPythonKatasResueltas/images/cmd.png)"
   ]
  }
 ],
 "metadata": {
  "language_info": {
   "name": "python"
  },
  "orig_nbformat": 4
 },
 "nbformat": 4,
 "nbformat_minor": 2
}
